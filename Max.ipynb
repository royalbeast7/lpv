{
  "nbformat": 4,
  "nbformat_minor": 0,
  "metadata": {
    "colab": {
      "provenance": []
    },
    "kernelspec": {
      "name": "python3",
      "display_name": "Python 3"
    },
    "language_info": {
      "name": "python"
    }
  },
  "cells": [
    {
      "cell_type": "code",
      "execution_count": null,
      "metadata": {
        "id": "eUd2A2kWEBa9"
      },
      "outputs": [],
      "source": [
        "!nvcc --version\n",
        "%env OMP_NUM_THREADS=3"
      ]
    },
    {
      "cell_type": "code",
      "source": [
        "%%writefile max.cpp\n",
        "#include <iostream>\n",
        "#include <vector>\n",
        "#include <omp.h>\n",
        "#include <climits>\n",
        "\n",
        "#include <ctime>\n",
        "#include <chrono>\n",
        "#include <cstdlib>\n",
        "\n",
        "using namespace std;\n",
        "void generate_random_input(vector<int>& arr, int n)\n",
        "{\n",
        "    for (int i = 0; i < n; ++i)\n",
        "    {\n",
        "        arr.push_back(rand() % 1000);\n",
        "    }\n",
        "    for (int i = 0; i < n; ++i)\n",
        "    {\n",
        "      cout<<arr[i]<<\" \";\n",
        "    }\n",
        "    cout<<endl;\n",
        "}\n",
        "\n",
        "void max_seq(const vector<int>& arr) {\n",
        "  int max_value = INT_MIN;\n",
        "  for (int i = 0; i < arr.size(); i++) {\n",
        "    if (arr[i] > max_value) {\n",
        "      max_value = arr[i];\n",
        "    }\n",
        "  }\n",
        "  cout << \"Sequential Maximum value: \" << max_value << endl;\n",
        "}\n",
        "\n",
        "void max_reduction(vector<int>& arr) {\n",
        "  int max_value = INT_MIN;\n",
        "  #pragma omp parallel for reduction(max: max_value)\n",
        "  for (int i = 0; i < arr.size(); i++) {\n",
        "    if (arr[i] > max_value) {\n",
        "      max_value = arr[i];\n",
        "    }\n",
        "  }\n",
        "  cout << \"Maximum value: \" << max_value << endl;\n",
        "}\n",
        "\n",
        "int main() {\n",
        "  int n;\n",
        "  cout << \"Enter the number of elements: \";\n",
        "  cin >> n;\n",
        "\n",
        "  vector<int> arr;\n",
        "  generate_random_input(arr, n);\n",
        "\n",
        "// Parallel reductions\n",
        "  clock_t start_time = std::clock();\n",
        "  max_reduction(arr);\n",
        "  clock_t end_time = std::clock();\n",
        "  double parallel_time = double(end_time - start_time) / CLOCKS_PER_SEC;\n",
        "  cout << \"Time taken for parallel reductions: \" << parallel_time << \" seconds\" << endl;\n",
        "  cout<<endl;\n",
        "\n",
        "  // Sequential reductions\n",
        "  start_time = std::clock();\n",
        "  max_seq(arr);\n",
        "  end_time = std::clock();\n",
        "  double sequential_time = double(end_time - start_time) / CLOCKS_PER_SEC;\n",
        "  cout << \"Time taken for sequential reductions: \" << sequential_time << \" seconds\" << endl;\n",
        "\n",
        "  return 0;\n",
        "}"
      ],
      "metadata": {
        "colab": {
          "base_uri": "https://localhost:8080/"
        },
        "id": "Htsqfrm4EFSC",
        "outputId": "5a857a0c-0cdb-4d24-8437-455e6bf8a987"
      },
      "execution_count": 1,
      "outputs": [
        {
          "output_type": "stream",
          "name": "stdout",
          "text": [
            "Writing max.cpp\n"
          ]
        }
      ]
    },
    {
      "cell_type": "code",
      "source": [
        "!g++ max.cpp -o max -fopenmp"
      ],
      "metadata": {
        "id": "3sAeNKubEHTl"
      },
      "execution_count": 2,
      "outputs": []
    },
    {
      "cell_type": "code",
      "source": [
        "!./max"
      ],
      "metadata": {
        "colab": {
          "base_uri": "https://localhost:8080/"
        },
        "id": "qojeRoeAEIy7",
        "outputId": "bad4bb42-b763-42eb-a9e1-d3d431660553"
      },
      "execution_count": 3,
      "outputs": [
        {
          "output_type": "stream",
          "name": "stdout",
          "text": [
            "Enter the number of elements: 10\n",
            "383 886 777 915 793 335 386 492 649 421 \n",
            "Maximum value: 915\n",
            "Time taken for parallel reductions: 0.000152 seconds\n",
            "\n",
            "Sequential Maximum value: 915\n",
            "Time taken for sequential reductions: 2e-06 seconds\n"
          ]
        }
      ]
    },
    {
      "cell_type": "code",
      "source": [],
      "metadata": {
        "id": "iG2BjaISEKFP"
      },
      "execution_count": null,
      "outputs": []
    }
  ]
}