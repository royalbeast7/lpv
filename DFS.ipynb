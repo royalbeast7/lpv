{
  "nbformat": 4,
  "nbformat_minor": 0,
  "metadata": {
    "colab": {
      "provenance": []
    },
    "kernelspec": {
      "name": "python3",
      "display_name": "Python 3"
    },
    "language_info": {
      "name": "python"
    }
  },
  "cells": [
    {
      "cell_type": "code",
      "execution_count": 1,
      "metadata": {
        "id": "5mNCptaGDrqm",
        "outputId": "830581ad-43d2-4a42-f773-dba16a8ba236",
        "colab": {
          "base_uri": "https://localhost:8080/"
        }
      },
      "outputs": [
        {
          "output_type": "stream",
          "name": "stdout",
          "text": [
            "nvcc: NVIDIA (R) Cuda compiler driver\n",
            "Copyright (c) 2005-2023 NVIDIA Corporation\n",
            "Built on Tue_Aug_15_22:02:13_PDT_2023\n",
            "Cuda compilation tools, release 12.2, V12.2.140\n",
            "Build cuda_12.2.r12.2/compiler.33191640_0\n",
            "env: OMP_NUM_THREADS=3\n"
          ]
        }
      ],
      "source": [
        "!nvcc --version\n",
        "%env OMP_NUM_THREADS=3"
      ]
    },
    {
      "cell_type": "code",
      "source": [
        "%%writefile dfs.cpp\n",
        "\n",
        "\n",
        "#include <iostream>\n",
        "#include <vector>\n",
        "#include <stack>\n",
        "#include <omp.h>\n",
        "\n",
        "using namespace std;\n",
        "\n",
        "const int MAX = 100; // Maximum size for the graph\n",
        "\n",
        "vector<int> graph[MAX]; // Graph representation\n",
        "bool visited[MAX];      // Array to mark visited nodes\n",
        "\n",
        "// Depth-First Search function\n",
        "void dfs(int start_node) {\n",
        "   stack<int> s;\n",
        "   s.push(start_node);\n",
        "\n",
        "   while (!s.empty()) {\n",
        "       int current_node = s.top();\n",
        "       s.pop();\n",
        "       if (!visited[current_node]) {\n",
        "           visited[current_node] = true;\n",
        "           cout << current_node << \" \";\n",
        "\n",
        "           #pragma omp parallel for\n",
        "           for (int i = 0; i < graph[current_node].size(); i++) {\n",
        "               int adj_node = graph[current_node][i];\n",
        "               if (!visited[adj_node]) {\n",
        "                   #pragma omp critical\n",
        "                   {\n",
        "                       s.push(adj_node);\n",
        "                   }\n",
        "               }\n",
        "           }\n",
        "       }\n",
        "   }\n",
        "}\n",
        "\n",
        "int main() {\n",
        "   int n, m; // n: number of nodes, m: number of edges\n",
        "   cout << \"Enter the number of nodes and edges: \";\n",
        "   cin >> n >> m;\n",
        "\n",
        "   // Input edges\n",
        "   cout << \"Enter the edges (node pairs):\\n\";\n",
        "   for (int i = 0; i < m; i++) {\n",
        "       int u, v;\n",
        "       cin >> u >> v;\n",
        "       graph[u].push_back(v);\n",
        "       graph[v].push_back(u); // For undirected graph\n",
        "   }\n",
        "\n",
        "   // Initialize visited array\n",
        "   #pragma omp parallel for\n",
        "   for (int i = 0; i < n; i++) {\n",
        "       visited[i] = false;\n",
        "   }\n",
        "\n",
        "   cout << \"Depth-First Search (DFS): \";\n",
        "   dfs(0); // Start DFS from node 0\n",
        "   cout << endl;\n",
        "\n",
        "   return 0;\n",
        "}\n"
      ],
      "metadata": {
        "id": "Uwwb2KOWDsU4",
        "outputId": "f032bcac-0b04-4cb2-e82a-8823c7cd2013",
        "colab": {
          "base_uri": "https://localhost:8080/"
        }
      },
      "execution_count": 2,
      "outputs": [
        {
          "output_type": "stream",
          "name": "stdout",
          "text": [
            "Writing dfs.cpp\n"
          ]
        }
      ]
    },
    {
      "cell_type": "code",
      "source": [
        "!g++ dfs.cpp -o dfs -fopenmp"
      ],
      "metadata": {
        "id": "WCINGRCQDtT-"
      },
      "execution_count": 3,
      "outputs": []
    },
    {
      "cell_type": "code",
      "source": [
        "!./dfs"
      ],
      "metadata": {
        "id": "qHfAMiqcDuk0",
        "outputId": "3c9dbe94-ff33-4f65-ca24-c018b1d33fae",
        "colab": {
          "base_uri": "https://localhost:8080/"
        }
      },
      "execution_count": 4,
      "outputs": [
        {
          "output_type": "stream",
          "name": "stdout",
          "text": [
            "Enter the number of nodes and edges: 5 6\n",
            "Enter the edges (node pairs):\n",
            "0 1\n",
            "0 2\n",
            "1 3\n",
            "1 4\n",
            "2 4\n",
            "3 4\n",
            "Depth-First Search (DFS): 0 2 4 1 3 \n"
          ]
        }
      ]
    },
    {
      "cell_type": "code",
      "source": [],
      "metadata": {
        "id": "avUAGlg_Dvy_"
      },
      "execution_count": null,
      "outputs": []
    }
  ]
}