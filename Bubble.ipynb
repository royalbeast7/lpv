{
  "nbformat": 4,
  "nbformat_minor": 0,
  "metadata": {
    "colab": {
      "provenance": []
    },
    "kernelspec": {
      "name": "python3",
      "display_name": "Python 3"
    },
    "language_info": {
      "name": "python"
    }
  },
  "cells": [
    {
      "cell_type": "code",
      "execution_count": 8,
      "metadata": {
        "colab": {
          "base_uri": "https://localhost:8080/"
        },
        "id": "yvL9LAnDGrdk",
        "outputId": "4fa6b591-4aa6-40ad-fe1d-62df7c8af56f"
      },
      "outputs": [
        {
          "output_type": "stream",
          "name": "stdout",
          "text": [
            "nvcc: NVIDIA (R) Cuda compiler driver\n",
            "Copyright (c) 2005-2023 NVIDIA Corporation\n",
            "Built on Tue_Aug_15_22:02:13_PDT_2023\n",
            "Cuda compilation tools, release 12.2, V12.2.140\n",
            "Build cuda_12.2.r12.2/compiler.33191640_0\n",
            "env: OMP_NUM_THREADS=3\n"
          ]
        }
      ],
      "source": [
        "!nvcc --version\n",
        "%env OMP_NUM_THREADS=3"
      ]
    },
    {
      "cell_type": "code",
      "source": [
        "%%writefile bubble.cpp\n",
        "\n",
        "#include <iostream>\n",
        "#include <omp.h>\n",
        "\n",
        "using namespace std;\n",
        "\n",
        "void sequentialBubbleSort(int *, int);\n",
        "void parallelBubbleSort(int *, int);\n",
        "void swap(int &, int &);\n",
        "\n",
        "void sequentialBubbleSort(int *a, int n)\n",
        "{\n",
        "    int swapped;\n",
        "    for (int i = 0; i < n; i++)\n",
        "    {\n",
        "        swapped = 0;\n",
        "        for (int j = 0; j < n - 1; j++)\n",
        "        {\n",
        "            if (a[j] > a[j + 1])\n",
        "            {\n",
        "                swap(a[j], a[j + 1]);\n",
        "                swapped = 1;\n",
        "            }\n",
        "        }\n",
        "\n",
        "        if (!swapped)\n",
        "            break;\n",
        "    }\n",
        "}\n",
        "\n",
        "void parallelBubbleSort(int *a, int n)\n",
        "{\n",
        "    int swapped;\n",
        "    for (int i = 0; i < n; i++)\n",
        "    {\n",
        "        swapped = 0;\n",
        "        int first = i % 2;\n",
        "        #pragma omp parallel for shared(a, first)\n",
        "        for (int j = first; j < n - 1; j++)\n",
        "        {\n",
        "            if (a[j] > a[j + 1])\n",
        "            {\n",
        "                swap(a[j], a[j + 1]);\n",
        "                swapped = 1;\n",
        "            }\n",
        "        }\n",
        "\n",
        "        if (!swapped)\n",
        "            break;\n",
        "    }\n",
        "}\n",
        "\n",
        "void swap(int &a, int &b)\n",
        "{\n",
        "    int test;\n",
        "    test = a;\n",
        "    a = b;\n",
        "    b = test;\n",
        "}\n",
        "\n",
        "int main()\n",
        "{\n",
        "    int *a, n;\n",
        "    cout << \"\\nEnter total number of elements for bubble sort: \";\n",
        "    cin >> n;\n",
        "    a = new int[n];\n",
        "\n",
        "    for (int i = 0; i < n; i++)\n",
        "    {\n",
        "        a[i] = rand() % 100; // Generate random numbers between 0 and 99\n",
        "    }\n",
        "    for (int i = 0; i < n; ++i){\n",
        "      cout<<a[i]<<\" \";\n",
        "    }\n",
        "    cout<<endl;\n",
        "\n",
        "\n",
        "    // Perform sequential bubble sort\n",
        "    double start_time = omp_get_wtime();\n",
        "    sequentialBubbleSort(a, n);\n",
        "    double end_time = omp_get_wtime();\n",
        "    cout << \"\\nSorted array after sequential bubble sort:\\n\";\n",
        "    for (int i = 0; i < n; i++)\n",
        "    {\n",
        "        cout << a[i] << \" \";\n",
        "    }\n",
        "    cout << \"\\nTime taken by sequential bubble sort: \" << end_time - start_time << \" seconds\" << endl;\n",
        "\n",
        "    // Perform parallel bubble sort\n",
        "    start_time = omp_get_wtime();\n",
        "    parallelBubbleSort(a, n);\n",
        "    end_time = omp_get_wtime();\n",
        "    cout << \"\\nSorted array after parallel bubble sort:\\n\";\n",
        "    for (int i = 0; i < n; i++)\n",
        "    {\n",
        "        cout << a[i] << \" \";\n",
        "    }\n",
        "    cout << \"\\nTime taken by parallel bubble sort: \" << end_time - start_time << \" seconds\" << endl;\n",
        "\n",
        "    delete[] a; // Don't forget to free the allocated memory\n",
        "\n",
        "    return 0;\n",
        "}"
      ],
      "metadata": {
        "colab": {
          "base_uri": "https://localhost:8080/"
        },
        "id": "MjrMlmZfywu9",
        "outputId": "a72bae27-c028-4d6c-e2df-41331983cfed"
      },
      "execution_count": 21,
      "outputs": [
        {
          "output_type": "stream",
          "name": "stdout",
          "text": [
            "Writing bubble.cpp\n"
          ]
        }
      ]
    },
    {
      "cell_type": "code",
      "source": [
        "!g++ -fopenmp bubble.cpp -o bubble"
      ],
      "metadata": {
        "id": "FNS-Pq7-z1lB"
      },
      "execution_count": 22,
      "outputs": []
    },
    {
      "cell_type": "code",
      "source": [
        "!./bubble"
      ],
      "metadata": {
        "colab": {
          "base_uri": "https://localhost:8080/"
        },
        "id": "YLZWKMLYz2NY",
        "outputId": "c7752e0d-5532-4829-8d22-3ab00e847a61"
      },
      "execution_count": 23,
      "outputs": [
        {
          "output_type": "stream",
          "name": "stdout",
          "text": [
            "\n",
            "Enter total number of elements for bubble sort: 10\n",
            "83 86 77 15 93 35 86 92 49 21 \n",
            "\n",
            "Sorted array after sequential bubble sort:\n",
            "15 21 35 49 77 83 86 86 92 93 \n",
            "Time taken by sequential bubble sort: 1.935e-06 seconds\n",
            "\n",
            "Sorted array after parallel bubble sort:\n",
            "15 21 35 49 77 83 86 86 92 93 \n",
            "Time taken by parallel bubble sort: 0.000197334 seconds\n"
          ]
        }
      ]
    },
    {
      "cell_type": "code",
      "source": [],
      "metadata": {
        "id": "irFgc3KJ0zBB"
      },
      "execution_count": null,
      "outputs": []
    }
  ]
}