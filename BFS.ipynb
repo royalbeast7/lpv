{
  "nbformat": 4,
  "nbformat_minor": 0,
  "metadata": {
    "colab": {
      "provenance": []
    },
    "kernelspec": {
      "name": "python3",
      "display_name": "Python 3"
    },
    "language_info": {
      "name": "python"
    }
  },
  "cells": [
    {
      "cell_type": "markdown",
      "source": [
        "## <center> Assignment 1A </center>"
      ],
      "metadata": {
        "id": "9gRHqMBY-b5h"
      }
    },
    {
      "cell_type": "code",
      "source": [
        "!nvcc --version\n",
        "%env OMP_NUM_THREADS=3"
      ],
      "metadata": {
        "colab": {
          "base_uri": "https://localhost:8080/",
          "height": 0
        },
        "id": "Q_Dy_N03fLVe",
        "outputId": "9363a3e5-bb0f-4b24-ccff-3deb1787717d"
      },
      "execution_count": 1,
      "outputs": [
        {
          "output_type": "stream",
          "name": "stdout",
          "text": [
            "nvcc: NVIDIA (R) Cuda compiler driver\n",
            "Copyright (c) 2005-2023 NVIDIA Corporation\n",
            "Built on Tue_Aug_15_22:02:13_PDT_2023\n",
            "Cuda compilation tools, release 12.2, V12.2.140\n",
            "Build cuda_12.2.r12.2/compiler.33191640_0\n",
            "env: OMP_NUM_THREADS=3\n"
          ]
        }
      ]
    },
    {
      "cell_type": "code",
      "source": [
        "%%writefile bfs.cpp\n",
        "\n",
        "\n",
        "#include <iostream>\n",
        "#include <vector>\n",
        "#include <queue>\n",
        "#include <omp.h>\n",
        "\n",
        "using namespace std;\n",
        "\n",
        "const int MAX = 100; // Maximum size for the graph\n",
        "\n",
        "vector<int> graph[MAX]; // Graph representation\n",
        "bool visited[MAX];      // Array to mark visited nodes\n",
        "\n",
        "// Breadth-First Search function\n",
        "void bfs(int start_node) {\n",
        "   queue<int> q;\n",
        "   q.push(start_node);\n",
        "   visited[start_node] = true;\n",
        "\n",
        "   while (!q.empty()) {\n",
        "       int current_node = q.front();\n",
        "       q.pop();\n",
        "       cout << current_node << \" \";\n",
        "\n",
        "       #pragma omp parallel for\n",
        "       for (int i = 0; i < graph[current_node].size(); i++) {\n",
        "           int adj_node = graph[current_node][i];\n",
        "           if (!visited[adj_node]) {\n",
        "               #pragma omp critical\n",
        "               {\n",
        "                   visited[adj_node] = true;\n",
        "                   q.push(adj_node);\n",
        "               }\n",
        "           }\n",
        "       }\n",
        "   }\n",
        "}\n",
        "\n",
        "int main() {\n",
        "   int n, m; // n: number of nodes, m: number of edges\n",
        "   cout << \"Enter the number of nodes and edges: \";\n",
        "   cin >> n >> m;\n",
        "\n",
        "   // Input edges\n",
        "   cout << \"Enter the edges (node pairs):\\n\";\n",
        "   for (int i = 0; i < m; i++) {\n",
        "       int u, v;\n",
        "       cin >> u >> v;\n",
        "       graph[u].push_back(v);\n",
        "       graph[v].push_back(u); // For undirected graph\n",
        "   }\n",
        "\n",
        "   // Initialize visited array\n",
        "   #pragma omp parallel for\n",
        "   for (int i = 0; i < n; i++) {\n",
        "       visited[i] = false;\n",
        "   }\n",
        "\n",
        "   cout << \"Breadth-First Search (BFS): \";\n",
        "   bfs(0); // Start BFS from node 0\n",
        "   cout << endl;\n",
        "\n",
        "   return 0;\n",
        "}\n"
      ],
      "metadata": {
        "colab": {
          "base_uri": "https://localhost:8080/",
          "height": 0
        },
        "id": "ST3ZtRyB1wB9",
        "outputId": "40c316d4-7157-4f31-a946-cf953086109e"
      },
      "execution_count": 11,
      "outputs": [
        {
          "output_type": "stream",
          "name": "stdout",
          "text": [
            "Overwriting bfs.cpp\n"
          ]
        }
      ]
    },
    {
      "cell_type": "code",
      "source": [
        "!g++ bfs.cpp -o bfs -fopenmp"
      ],
      "metadata": {
        "id": "KiV0BWIZ3axZ"
      },
      "execution_count": 12,
      "outputs": []
    },
    {
      "cell_type": "code",
      "source": [
        "!./bfs"
      ],
      "metadata": {
        "colab": {
          "base_uri": "https://localhost:8080/",
          "height": 0
        },
        "id": "j3e6zzzl3evh",
        "outputId": "3d665801-efbc-4c9b-c1c8-1a4a30489586"
      },
      "execution_count": 13,
      "outputs": [
        {
          "output_type": "stream",
          "name": "stdout",
          "text": [
            "Enter the number of nodes and edges: 5 6\n",
            "Enter the edges (node pairs):\n",
            "0 1\n",
            "0 2\n",
            "1 3\n",
            "1 4\n",
            "2 4\n",
            "3 4\n",
            "Breadth-First Search (BFS): 0 1 2 3 4 \n"
          ]
        }
      ]
    },
    {
      "cell_type": "code",
      "source": [],
      "metadata": {
        "id": "DUObtg9_3tBt"
      },
      "execution_count": null,
      "outputs": []
    }
  ]
}