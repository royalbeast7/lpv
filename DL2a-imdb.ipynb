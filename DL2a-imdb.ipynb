{
  "nbformat": 4,
  "nbformat_minor": 0,
  "metadata": {
    "colab": {
      "provenance": []
    },
    "kernelspec": {
      "name": "python3",
      "display_name": "Python 3"
    },
    "language_info": {
      "name": "python"
    }
  },
  "cells": [
    {
      "cell_type": "code",
      "execution_count": 1,
      "metadata": {
        "colab": {
          "base_uri": "https://localhost:8080/"
        },
        "id": "9RUvoxHBZXOk",
        "outputId": "4c6a6f1e-0e37-4bef-a8e1-8f109ebc25f6"
      },
      "outputs": [
        {
          "output_type": "stream",
          "name": "stdout",
          "text": [
            "Downloading data from https://storage.googleapis.com/tensorflow/tf-keras-datasets/imdb.npz\n",
            "17464789/17464789 [==============================] - 0s 0us/step\n"
          ]
        }
      ],
      "source": [
        "from keras.datasets import imdb\n",
        "(train_data, train_labels), (test_data, test_labels) = imdb.load_data(num_words = 10000)"
      ]
    },
    {
      "cell_type": "code",
      "source": [
        "print(type([max(sequence) for sequence in train_data]))\n",
        "max([max(sequence) for sequence in train_data])"
      ],
      "metadata": {
        "colab": {
          "base_uri": "https://localhost:8080/"
        },
        "id": "AltIW32UZY4C",
        "outputId": "0dadc0ba-55fd-4858-d0cf-2022c1fcd231"
      },
      "execution_count": 2,
      "outputs": [
        {
          "output_type": "stream",
          "name": "stdout",
          "text": [
            "<class 'list'>\n"
          ]
        },
        {
          "output_type": "execute_result",
          "data": {
            "text/plain": [
              "9999"
            ]
          },
          "metadata": {},
          "execution_count": 2
        }
      ]
    },
    {
      "cell_type": "code",
      "source": [
        "word_index = imdb.get_word_index()\n",
        "\n",
        "reverse_word_index = dict([(value, key) for (key, value) in word_index.items()])\n",
        "\n",
        "decoded_review = ' '.join([reverse_word_index.get(i-3, '?') for i in train_data[0]])\n",
        "decoded_review"
      ],
      "metadata": {
        "colab": {
          "base_uri": "https://localhost:8080/",
          "height": 178
        },
        "id": "UyKDTf79ZZ5B",
        "outputId": "6a1657a8-37e2-4667-eca0-091b5c0252dd"
      },
      "execution_count": 3,
      "outputs": [
        {
          "output_type": "stream",
          "name": "stdout",
          "text": [
            "Downloading data from https://storage.googleapis.com/tensorflow/tf-keras-datasets/imdb_word_index.json\n",
            "1641221/1641221 [==============================] - 0s 0us/step\n"
          ]
        },
        {
          "output_type": "execute_result",
          "data": {
            "text/plain": [
              "\"? this film was just brilliant casting location scenery story direction everyone's really suited the part they played and you could just imagine being there robert ? is an amazing actor and now the same being director ? father came from the same scottish island as myself so i loved the fact there was a real connection with this film the witty remarks throughout the film were great it was just brilliant so much that i bought the film as soon as it was released for ? and would recommend it to everyone to watch and the fly fishing was amazing really cried at the end it was so sad and you know what they say if you cry at a film it must have been good and this definitely was also ? to the two little boy's that played the ? of norman and paul they were just brilliant children are often left out of the ? list i think because the stars that play them all grown up are such a big profile for the whole film but these children are amazing and should be praised for what they have done don't you think the whole story was so lovely because it was true and was someone's life after all that was shared with us all\""
            ],
            "application/vnd.google.colaboratory.intrinsic+json": {
              "type": "string"
            }
          },
          "metadata": {},
          "execution_count": 3
        }
      ]
    },
    {
      "cell_type": "code",
      "source": [
        "import numpy as np\n",
        "def vectorize_sequences(sequences, dimension=10000):\n",
        "    results = np.zeros((len(sequences), dimension))\n",
        "    for i,sequence in enumerate(sequences):\n",
        "        results[i,sequence] = 1\n",
        "    return results\n",
        "\n",
        "X_train = vectorize_sequences(train_data)\n",
        "\n",
        "X_test = vectorize_sequences(test_data)"
      ],
      "metadata": {
        "id": "ZTt8_PX3ZcJn"
      },
      "execution_count": 4,
      "outputs": []
    },
    {
      "cell_type": "code",
      "source": [
        "X_train[0]"
      ],
      "metadata": {
        "colab": {
          "base_uri": "https://localhost:8080/"
        },
        "id": "6wp8rnPhZdDY",
        "outputId": "0ebc54cd-39af-4fa9-a2c9-f6c0494e6966"
      },
      "execution_count": 5,
      "outputs": [
        {
          "output_type": "execute_result",
          "data": {
            "text/plain": [
              "array([0., 1., 1., ..., 0., 0., 0.])"
            ]
          },
          "metadata": {},
          "execution_count": 5
        }
      ]
    },
    {
      "cell_type": "code",
      "source": [
        "X_train.shape"
      ],
      "metadata": {
        "colab": {
          "base_uri": "https://localhost:8080/"
        },
        "id": "G4eWzgPEZeDD",
        "outputId": "b3c652b0-d554-45a2-c911-12b9c68fd533"
      },
      "execution_count": 6,
      "outputs": [
        {
          "output_type": "execute_result",
          "data": {
            "text/plain": [
              "(25000, 10000)"
            ]
          },
          "metadata": {},
          "execution_count": 6
        }
      ]
    },
    {
      "cell_type": "code",
      "source": [
        "y_train = np.asarray(train_labels).astype('float32')\n",
        "y_test = np.asarray(test_labels).astype('float32')"
      ],
      "metadata": {
        "id": "AdRN0VtrZe2r"
      },
      "execution_count": 7,
      "outputs": []
    },
    {
      "cell_type": "code",
      "source": [
        "from keras import models\n",
        "from keras import layers\n",
        "model = models.Sequential()\n",
        "model.add(layers.Dense(16, activation='relu', input_shape=(10000,)))\n",
        "model.add(layers.Dense(16, activation='relu'))\n",
        "model.add(layers.Dense(1, activation='sigmoid'))"
      ],
      "metadata": {
        "id": "nm_MKgaxZfrO"
      },
      "execution_count": 8,
      "outputs": []
    },
    {
      "cell_type": "code",
      "source": [
        "from keras import optimizers\n",
        "from keras import losses\n",
        "from keras import metrics\n",
        "model.compile(\n",
        "    optimizer=optimizers.RMSprop(lr=0.001),\n",
        "    loss = losses.binary_crossentropy,\n",
        "    metrics = [metrics.binary_accuracy]\n",
        ")"
      ],
      "metadata": {
        "colab": {
          "base_uri": "https://localhost:8080/"
        },
        "id": "O7OLL4ACZgft",
        "outputId": "68ed732e-2b96-4ee7-90b4-f3de9e017446"
      },
      "execution_count": 9,
      "outputs": [
        {
          "output_type": "stream",
          "name": "stderr",
          "text": [
            "WARNING:absl:`lr` is deprecated in Keras optimizer, please use `learning_rate` or use the legacy optimizer, e.g.,tf.keras.optimizers.legacy.RMSprop.\n"
          ]
        }
      ]
    },
    {
      "cell_type": "code",
      "source": [
        "X_val = X_train[:10000]\n",
        "partial_X_train = X_train[10000:]\n",
        "\n",
        "y_val = y_train[:10000]\n",
        "partial_y_train = y_train[10000:]"
      ],
      "metadata": {
        "id": "yRcaNNaMZhX-"
      },
      "execution_count": 10,
      "outputs": []
    },
    {
      "cell_type": "code",
      "source": [
        "history = model.fit(\n",
        "    partial_X_train,\n",
        "    partial_y_train,\n",
        "    epochs=20,\n",
        "    batch_size=512,\n",
        "    validation_data=(X_val, y_val)\n",
        ")"
      ],
      "metadata": {
        "colab": {
          "base_uri": "https://localhost:8080/"
        },
        "id": "MaQKkkkjZiNa",
        "outputId": "08405cb1-15f9-40c3-f280-8e511e938fc7"
      },
      "execution_count": 11,
      "outputs": [
        {
          "output_type": "stream",
          "name": "stdout",
          "text": [
            "Epoch 1/20\n",
            "30/30 [==============================] - 4s 119ms/step - loss: 0.5303 - binary_accuracy: 0.7791 - val_loss: 0.4035 - val_binary_accuracy: 0.8640\n",
            "Epoch 2/20\n",
            "30/30 [==============================] - 1s 40ms/step - loss: 0.3297 - binary_accuracy: 0.8933 - val_loss: 0.3220 - val_binary_accuracy: 0.8809\n",
            "Epoch 3/20\n",
            "30/30 [==============================] - 1s 32ms/step - loss: 0.2481 - binary_accuracy: 0.9177 - val_loss: 0.3059 - val_binary_accuracy: 0.8781\n",
            "Epoch 4/20\n",
            "30/30 [==============================] - 2s 54ms/step - loss: 0.2033 - binary_accuracy: 0.9329 - val_loss: 0.2913 - val_binary_accuracy: 0.8828\n",
            "Epoch 5/20\n",
            "30/30 [==============================] - 1s 50ms/step - loss: 0.1689 - binary_accuracy: 0.9451 - val_loss: 0.2758 - val_binary_accuracy: 0.8912\n",
            "Epoch 6/20\n",
            "30/30 [==============================] - 2s 52ms/step - loss: 0.1443 - binary_accuracy: 0.9539 - val_loss: 0.2937 - val_binary_accuracy: 0.8837\n",
            "Epoch 7/20\n",
            "30/30 [==============================] - 2s 62ms/step - loss: 0.1234 - binary_accuracy: 0.9629 - val_loss: 0.2911 - val_binary_accuracy: 0.8872\n",
            "Epoch 8/20\n",
            "30/30 [==============================] - 1s 46ms/step - loss: 0.1090 - binary_accuracy: 0.9679 - val_loss: 0.3110 - val_binary_accuracy: 0.8810\n",
            "Epoch 9/20\n",
            "30/30 [==============================] - 2s 71ms/step - loss: 0.0927 - binary_accuracy: 0.9733 - val_loss: 0.3173 - val_binary_accuracy: 0.8835\n",
            "Epoch 10/20\n",
            "30/30 [==============================] - 2s 66ms/step - loss: 0.0798 - binary_accuracy: 0.9769 - val_loss: 0.3477 - val_binary_accuracy: 0.8775\n",
            "Epoch 11/20\n",
            "30/30 [==============================] - 2s 67ms/step - loss: 0.0686 - binary_accuracy: 0.9819 - val_loss: 0.3583 - val_binary_accuracy: 0.8798\n",
            "Epoch 12/20\n",
            "30/30 [==============================] - 2s 65ms/step - loss: 0.0594 - binary_accuracy: 0.9849 - val_loss: 0.3729 - val_binary_accuracy: 0.8776\n",
            "Epoch 13/20\n",
            "30/30 [==============================] - 2s 63ms/step - loss: 0.0560 - binary_accuracy: 0.9855 - val_loss: 0.3903 - val_binary_accuracy: 0.8759\n",
            "Epoch 14/20\n",
            "30/30 [==============================] - 1s 47ms/step - loss: 0.0413 - binary_accuracy: 0.9926 - val_loss: 0.4147 - val_binary_accuracy: 0.8739\n",
            "Epoch 15/20\n",
            "30/30 [==============================] - 2s 58ms/step - loss: 0.0373 - binary_accuracy: 0.9928 - val_loss: 0.4375 - val_binary_accuracy: 0.8740\n",
            "Epoch 16/20\n",
            "30/30 [==============================] - 2s 68ms/step - loss: 0.0326 - binary_accuracy: 0.9938 - val_loss: 0.4546 - val_binary_accuracy: 0.8743\n",
            "Epoch 17/20\n",
            "30/30 [==============================] - 2s 58ms/step - loss: 0.0257 - binary_accuracy: 0.9965 - val_loss: 0.4760 - val_binary_accuracy: 0.8742\n",
            "Epoch 18/20\n",
            "30/30 [==============================] - 2s 54ms/step - loss: 0.0235 - binary_accuracy: 0.9965 - val_loss: 0.5689 - val_binary_accuracy: 0.8624\n",
            "Epoch 19/20\n",
            "30/30 [==============================] - 2s 61ms/step - loss: 0.0170 - binary_accuracy: 0.9988 - val_loss: 0.5385 - val_binary_accuracy: 0.8656\n",
            "Epoch 20/20\n",
            "30/30 [==============================] - 2s 57ms/step - loss: 0.0184 - binary_accuracy: 0.9969 - val_loss: 0.5454 - val_binary_accuracy: 0.8686\n"
          ]
        }
      ]
    },
    {
      "cell_type": "code",
      "source": [
        "history_dict = history.history\n",
        "history_dict.keys()"
      ],
      "metadata": {
        "colab": {
          "base_uri": "https://localhost:8080/"
        },
        "id": "Hh65i9gcZi8O",
        "outputId": "a2868e7e-ef5c-4436-d894-4da7452e55bb"
      },
      "execution_count": 12,
      "outputs": [
        {
          "output_type": "execute_result",
          "data": {
            "text/plain": [
              "dict_keys(['loss', 'binary_accuracy', 'val_loss', 'val_binary_accuracy'])"
            ]
          },
          "metadata": {},
          "execution_count": 12
        }
      ]
    },
    {
      "cell_type": "code",
      "source": [
        "import matplotlib.pyplot as plt\n",
        "%matplotlib inline"
      ],
      "metadata": {
        "id": "8sA25CauZkA9"
      },
      "execution_count": 13,
      "outputs": []
    },
    {
      "cell_type": "code",
      "source": [
        "loss_values = history_dict['loss']\n",
        "val_loss_values = history_dict['val_loss']\n",
        "epochs = range(1, len(loss_values) + 1)\n",
        "plt.plot(epochs, loss_values, 'g', label=\"Training Loss\")\n",
        "plt.plot(epochs, val_loss_values, 'b', label=\"Validation Loss\")\n",
        "plt.title('Training and Validation Loss')\n",
        "plt.xlabel('Epochs')\n",
        "plt.ylabel('Loss Value')\n",
        "plt.legend()\n",
        "plt.show()"
      ],
      "metadata": {
        "colab": {
          "base_uri": "https://localhost:8080/",
          "height": 472
        },
        "id": "hWCNRkOXZlDM",
        "outputId": "8988ba64-23ca-4aae-bd68-2ebaed799dbc"
      },
      "execution_count": 14,
      "outputs": [
        {
          "output_type": "display_data",
          "data": {
            "text/plain": [
              "<Figure size 640x480 with 1 Axes>"
            ],
            "image/png": "[encoded data removed]"
          },
          "metadata": {}
        }
      ]
    },
    {
      "cell_type": "code",
      "source": [
        "acc_values = history_dict['binary_accuracy']\n",
        "val_acc_values = history_dict['val_binary_accuracy']\n",
        "epochs = range(1, len(loss_values) + 1)\n",
        "plt.plot(epochs, acc_values, 'g', label=\"Training Accuracy\")\n",
        "plt.plot(epochs, val_acc_values, 'b', label=\"Validation Accuracy\")\n",
        "plt.title('Training and Validation Accuraccy')\n",
        "plt.xlabel('Epochs')\n",
        "plt.ylabel('Accuracy')\n",
        "plt.legend()\n",
        "plt.show()"
      ],
      "metadata": {
        "colab": {
          "base_uri": "https://localhost:8080/",
          "height": 472
        },
        "id": "Cgcj3kTLZltg",
        "outputId": "683be8fa-1a30-4da2-b6ae-b21d07eb1919"
      },
      "execution_count": 15,
      "outputs": [
        {
          "output_type": "display_data",
          "data": {
            "text/plain": [
              "<Figure size 640x480 with 1 Axes>"
            ],
            "image/png": "[encoded data removed]"
          },
          "metadata": {}
        }
      ]
    },
    {
      "cell_type": "code",
      "source": [
        "model.fit(\n",
        "    partial_X_train,\n",
        "    partial_y_train,\n",
        "    epochs=3,\n",
        "    batch_size=512,\n",
        "    validation_data=(X_val, y_val)\n",
        ")"
      ],
      "metadata": {
        "colab": {
          "base_uri": "https://localhost:8080/"
        },
        "id": "CX_pXBzTZmsH",
        "outputId": "1a3f3555-20fc-41a2-e0b3-47ae98b62430"
      },
      "execution_count": 16,
      "outputs": [
        {
          "output_type": "stream",
          "name": "stdout",
          "text": [
            "Epoch 1/3\n",
            "30/30 [==============================] - 2s 63ms/step - loss: 0.0169 - binary_accuracy: 0.9974 - val_loss: 0.5651 - val_binary_accuracy: 0.8683\n",
            "Epoch 2/3\n",
            "30/30 [==============================] - 1s 39ms/step - loss: 0.0100 - binary_accuracy: 0.9995 - val_loss: 0.6506 - val_binary_accuracy: 0.8558\n",
            "Epoch 3/3\n",
            "30/30 [==============================] - 1s 46ms/step - loss: 0.0135 - binary_accuracy: 0.9981 - val_loss: 0.6045 - val_binary_accuracy: 0.8694\n"
          ]
        },
        {
          "output_type": "execute_result",
          "data": {
            "text/plain": [
              "<keras.src.callbacks.History at 0x7d2a053bb010>"
            ]
          },
          "metadata": {},
          "execution_count": 16
        }
      ]
    },
    {
      "cell_type": "code",
      "source": [
        "np.set_printoptions(suppress=True)\n",
        "result = model.predict(X_test)"
      ],
      "metadata": {
        "colab": {
          "base_uri": "https://localhost:8080/"
        },
        "id": "iKnKScCLZng1",
        "outputId": "630f642d-c87c-4aa0-a21a-5881139dd443"
      },
      "execution_count": 17,
      "outputs": [
        {
          "output_type": "stream",
          "name": "stdout",
          "text": [
            "782/782 [==============================] - 2s 2ms/step\n"
          ]
        }
      ]
    },
    {
      "cell_type": "code",
      "source": [
        "result"
      ],
      "metadata": {
        "colab": {
          "base_uri": "https://localhost:8080/"
        },
        "id": "Cc4dUEjDZobb",
        "outputId": "9735e55b-6eba-48a2-b75b-ec3771fb6e17"
      },
      "execution_count": 18,
      "outputs": [
        {
          "output_type": "execute_result",
          "data": {
            "text/plain": [
              "array([[0.0136542 ],\n",
              "       [0.99999976],\n",
              "       [0.7030736 ],\n",
              "       ...,\n",
              "       [0.00111694],\n",
              "       [0.0155025 ],\n",
              "       [0.9562698 ]], dtype=float32)"
            ]
          },
          "metadata": {},
          "execution_count": 18
        }
      ]
    },
    {
      "cell_type": "code",
      "source": [
        "y_pred = np.zeros(len(result))\n",
        "for i, score in enumerate(result):\n",
        "    y_pred[i] = 1 if score > 0.5 else 0"
      ],
      "metadata": {
        "id": "9PFYN791ZpkO"
      },
      "execution_count": 19,
      "outputs": []
    },
    {
      "cell_type": "code",
      "source": [
        "from sklearn.metrics import mean_absolute_error\n",
        "mae = mean_absolute_error(y_pred, y_test)\n",
        "mae"
      ],
      "metadata": {
        "colab": {
          "base_uri": "https://localhost:8080/"
        },
        "id": "LzZ4mOckZqXU",
        "outputId": "8098ea2f-8c56-49e6-af28-3f68e84cc3ca"
      },
      "execution_count": 20,
      "outputs": [
        {
          "output_type": "execute_result",
          "data": {
            "text/plain": [
              "0.14248"
            ]
          },
          "metadata": {},
          "execution_count": 20
        }
      ]
    },
    {
      "cell_type": "code",
      "source": [],
      "metadata": {
        "id": "V1cBNzgVZrEH"
      },
      "execution_count": null,
      "outputs": []
    }
  ]
}