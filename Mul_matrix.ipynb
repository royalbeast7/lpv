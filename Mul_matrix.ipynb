{
  "nbformat": 4,
  "nbformat_minor": 0,
  "metadata": {
    "colab": {
      "provenance": [],
      "gpuType": "T4"
    },
    "kernelspec": {
      "name": "python3",
      "display_name": "Python 3"
    },
    "language_info": {
      "name": "python"
    },
    "accelerator": "GPU"
  },
  "cells": [
    {
      "cell_type": "code",
      "execution_count": 4,
      "metadata": {
        "colab": {
          "base_uri": "https://localhost:8080/"
        },
        "id": "3ifqrcP7FJU4",
        "outputId": "c71f1030-2b7d-435f-b5cb-5aef8fc15615"
      },
      "outputs": [
        {
          "output_type": "stream",
          "name": "stdout",
          "text": [
            "Overwriting mul.cu\n"
          ]
        }
      ],
      "source": [
        "%%writefile mul.cu\n",
        "#include <cuda_runtime.h>\n",
        "#include <iostream>\n",
        "\n",
        "__global__ void matmul(int* A, int* B, int* C, int N) {\n",
        "    int Row = blockIdx.y*blockDim.y+threadIdx.y;\n",
        "    int Col = blockIdx.x*blockDim.x+threadIdx.x;\n",
        "    if (Row < N && Col < N)\n",
        "    {\n",
        "        int Pvalue = 0;\n",
        "        for (int k = 0; k < N; k++)\n",
        "        {\n",
        "            Pvalue += A[Row*N+k] * B[k*N+Col];\n",
        "        }\n",
        "        C[Row*N+Col] = Pvalue;\n",
        "    }\n",
        "}\n",
        "\n",
        "int main() {\n",
        "    int N;\n",
        "    std::cout << \"Enter the size of the matrices (N x N): \";\n",
        "    std::cin >> N;\n",
        "\n",
        "    int size = N * N * sizeof(int);\n",
        "    int* A, * B, * C;\n",
        "    int* dev_A, * dev_B, * dev_C;\n",
        "    cudaMallocHost(&A, size);\n",
        "    cudaMallocHost(&B, size);\n",
        "    cudaMallocHost(&C, size);\n",
        "    cudaMalloc(&dev_A, size);\n",
        "    cudaMalloc(&dev_B, size);\n",
        "    cudaMalloc(&dev_C, size);\n",
        "\n",
        "    // Input matrix A\n",
        "    std::cout << \"Enter the elements of matrix A:\" << std::endl;\n",
        "    for (int i = 0; i < N; i++) {\n",
        "        for (int j = 0; j < N; j++) {\n",
        "            std::cin >> A[i*N+j];\n",
        "        }\n",
        "    }\n",
        "\n",
        "    // Input matrix B\n",
        "    std::cout << \"Enter the elements of matrix B:\" << std::endl;\n",
        "    for (int i = 0; i < N; i++) {\n",
        "        for (int j = 0; j < N; j++) {\n",
        "            std::cin >> B[i*N+j];\n",
        "        }\n",
        "    }\n",
        "\n",
        "    cudaMemcpy(dev_A, A, size, cudaMemcpyHostToDevice);\n",
        "    cudaMemcpy(dev_B, B, size, cudaMemcpyHostToDevice);\n",
        "\n",
        "    dim3 dimBlock(16, 16);\n",
        "    dim3 dimGrid((N + dimBlock.x - 1) / dimBlock.x, (N + dimBlock.y - 1) / dimBlock.y);\n",
        "\n",
        "    matmul<<<dimGrid, dimBlock>>>(dev_A, dev_B, dev_C, N);\n",
        "\n",
        "    cudaMemcpy(C, dev_C, size, cudaMemcpyDeviceToHost);\n",
        "\n",
        "    // Print the result\n",
        "    std::cout << \"Result:\" << std::endl;\n",
        "    for (int i = 0; i < std::min(10, N); i++)\n",
        "    {\n",
        "        for (int j = 0; j < std::min(10, N); j++)\n",
        "        {\n",
        "            std::cout << C[i*N+j] << \" \";\n",
        "        }\n",
        "        std::cout << std::endl;\n",
        "    }\n",
        "\n",
        "    // Free memory\n",
        "    cudaFree(dev_A);\n",
        "    cudaFree(dev_B);\n",
        "    cudaFree(dev_C);\n",
        "    cudaFreeHost(A);\n",
        "    cudaFreeHost(B);\n",
        "    cudaFreeHost(C);\n",
        "\n",
        "    return 0;\n",
        "}\n"
      ]
    },
    {
      "cell_type": "code",
      "source": [
        "!nvcc mul.cu -o mul"
      ],
      "metadata": {
        "id": "qtQxAQ8bFOdd"
      },
      "execution_count": 2,
      "outputs": []
    },
    {
      "cell_type": "code",
      "source": [
        "!./mul"
      ],
      "metadata": {
        "colab": {
          "base_uri": "https://localhost:8080/"
        },
        "id": "QSAdAUX1FT2N",
        "outputId": "48331929-fd50-4403-e372-e9a4fbc9e1e3"
      },
      "execution_count": 3,
      "outputs": [
        {
          "output_type": "stream",
          "name": "stdout",
          "text": [
            "Enter the size of the matrices (N x N): 2 2\n",
            "Enter the elements of matrix A:\n",
            "1 3 5 7\n",
            "Enter the elements of matrix B:\n",
            "2 4 6 8\n",
            "Result:\n",
            "18 10 \n",
            "41 36 \n"
          ]
        }
      ]
    },
    {
      "cell_type": "code",
      "source": [],
      "metadata": {
        "id": "oUcLbq6YFVPC"
      },
      "execution_count": null,
      "outputs": []
    }
  ]
}