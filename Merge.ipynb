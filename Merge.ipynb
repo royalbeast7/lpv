{
  "nbformat": 4,
  "nbformat_minor": 0,
  "metadata": {
    "colab": {
      "provenance": []
    },
    "kernelspec": {
      "name": "python3",
      "display_name": "Python 3"
    },
    "language_info": {
      "name": "python"
    }
  },
  "cells": [
    {
      "cell_type": "code",
      "execution_count": 1,
      "metadata": {
        "colab": {
          "base_uri": "https://localhost:8080/"
        },
        "id": "RWmocz3VDOWr",
        "outputId": "19feb06e-89bf-40e0-917f-a4a239fb9981"
      },
      "outputs": [
        {
          "output_type": "stream",
          "name": "stdout",
          "text": [
            "nvcc: NVIDIA (R) Cuda compiler driver\n",
            "Copyright (c) 2005-2023 NVIDIA Corporation\n",
            "Built on Tue_Aug_15_22:02:13_PDT_2023\n",
            "Cuda compilation tools, release 12.2, V12.2.140\n",
            "Build cuda_12.2.r12.2/compiler.33191640_0\n",
            "env: OMP_NUM_THREADS=3\n"
          ]
        }
      ],
      "source": [
        "!nvcc --version\n",
        "%env OMP_NUM_THREADS=3"
      ]
    },
    {
      "cell_type": "code",
      "source": [
        "%%writefile merge.cpp\n",
        "\n",
        "#include <iostream>\n",
        "#include <omp.h>\n",
        "\n",
        "using namespace std;\n",
        "\n",
        "void mergesort(int a[], int i, int j);\n",
        "void merge(int a[], int i1, int j1, int i2, int j2);\n",
        "\n",
        "void mergesort(int a[], int i, int j)\n",
        "{\n",
        "    if (i < j)\n",
        "    {\n",
        "        int mid = (i + j) / 2;\n",
        "\n",
        "        {\n",
        "\n",
        "            {\n",
        "                mergesort(a, i, mid);\n",
        "            }\n",
        "\n",
        "            {\n",
        "                mergesort(a, mid + 1, j);\n",
        "            }\n",
        "        }\n",
        "        merge(a, i, mid, mid + 1, j);\n",
        "    }\n",
        "}\n",
        "\n",
        "void paramergesort(int a[], int i, int j)\n",
        "{\n",
        "    if (i < j)\n",
        "    {\n",
        "        int mid = (i + j) / 2;\n",
        "#pragma omp parallel sections\n",
        "        {\n",
        "#pragma omp section\n",
        "            {\n",
        "                mergesort(a, i, mid);\n",
        "            }\n",
        "#pragma omp section\n",
        "            {\n",
        "                mergesort(a, mid + 1, j);\n",
        "            }\n",
        "        }\n",
        "        merge(a, i, mid, mid + 1, j);\n",
        "    }\n",
        "}\n",
        "\n",
        "\n",
        "void merge(int a[], int i1, int j1, int i2, int j2)\n",
        "{\n",
        "    int temp[100000];\n",
        "    int i, j, k;\n",
        "    i = i1;\n",
        "    j = i2;\n",
        "    k = 0;\n",
        "\n",
        "    while (i <= j1 && j <= j2)\n",
        "    {\n",
        "        if (a[i] < a[j])\n",
        "        {\n",
        "            temp[k++] = a[i++];\n",
        "        }\n",
        "        else\n",
        "        {\n",
        "            temp[k++] = a[j++];\n",
        "        }\n",
        "    }\n",
        "\n",
        "    while (i <= j1)\n",
        "    {\n",
        "        temp[k++] = a[i++];\n",
        "    }\n",
        "\n",
        "    while (j <= j2)\n",
        "    {\n",
        "        temp[k++] = a[j++];\n",
        "    }\n",
        "\n",
        "    for (i = i1, j = 0; i <= j2; i++, j++)\n",
        "    {\n",
        "        a[i] = temp[j];\n",
        "    }\n",
        "}\n",
        "\n",
        "int main()\n",
        "{\n",
        "    int *a, n;\n",
        "\n",
        "    // Merge Sort\n",
        "    cout << \"\\nEnter total number of elements for merge sort: \";\n",
        "    cin >> n;\n",
        "    a = new int[n];\n",
        "    for (int i = 0; i < n; i++)\n",
        "    {\n",
        "        a[i] = rand() % 100; // Generate random numbers between 0 and 99\n",
        "    }\n",
        "\n",
        "    double start_time = omp_get_wtime(); // start timer for sequential merge sort\n",
        "    mergesort(a, 0, n - 1);\n",
        "    double end_time = omp_get_wtime(); // end timer for sequential merge sort\n",
        "\n",
        "    cout << \"\\nSorted array after sequential merge sort:\\n\";\n",
        "    for (int i = 0; i < n; i++)\n",
        "    {\n",
        "        cout << a[i] << \" \";\n",
        "    }\n",
        "    cout << \"\\nTime taken by sequential merge sort: \" << end_time - start_time << \" seconds\" << endl;\n",
        "\n",
        "    start_time = omp_get_wtime(); // start timer for parallel merge sort\n",
        "    paramergesort(a, 0, n - 1);\n",
        "\n",
        "    end_time = omp_get_wtime(); // end timer for parallel merge sort\n",
        "\n",
        "    cout << \"\\nSorted array after parallel merge sort:\\n\";\n",
        "    for (int i = 0; i < n; i++)\n",
        "    {\n",
        "        cout << a[i] << \" \";\n",
        "    }\n",
        "    cout << \"\\nTime taken by parallel merge sort: \" << end_time - start_time << \" seconds\" << endl;\n",
        "\n",
        "    delete[] a; // Don't forget to free the allocated memory\n",
        "\n",
        "    return 0;\n",
        "}"
      ],
      "metadata": {
        "colab": {
          "base_uri": "https://localhost:8080/"
        },
        "id": "CNTHNtq6DQF8",
        "outputId": "653679ac-2046-47fd-fd0d-44815e6b9563"
      },
      "execution_count": 2,
      "outputs": [
        {
          "output_type": "stream",
          "name": "stdout",
          "text": [
            "Writing merge.cpp\n"
          ]
        }
      ]
    },
    {
      "cell_type": "code",
      "source": [
        "!g++ -fopenmp merge.cpp -o merge"
      ],
      "metadata": {
        "id": "ZTEW-db3DRMa"
      },
      "execution_count": 3,
      "outputs": []
    },
    {
      "cell_type": "code",
      "source": [
        "!./merge"
      ],
      "metadata": {
        "colab": {
          "base_uri": "https://localhost:8080/"
        },
        "id": "tNxXIb2nDTEp",
        "outputId": "2120bfcb-a189-4b8f-9807-9e7bfe1a3e30"
      },
      "execution_count": 4,
      "outputs": [
        {
          "output_type": "stream",
          "name": "stdout",
          "text": [
            "\n",
            "Enter total number of elements for merge sort: 10\n",
            "\n",
            "Sorted array after sequential merge sort:\n",
            "15 21 35 49 77 83 86 86 92 93 \n",
            "Time taken by sequential merge sort: 0.000555513 seconds\n",
            "\n",
            "Sorted array after parallel merge sort:\n",
            "15 21 35 49 77 83 86 86 92 93 \n",
            "Time taken by parallel merge sort: 0.000659182 seconds\n"
          ]
        }
      ]
    },
    {
      "cell_type": "code",
      "source": [],
      "metadata": {
        "id": "9wowBwjvDVzI"
      },
      "execution_count": null,
      "outputs": []
    }
  ]
}