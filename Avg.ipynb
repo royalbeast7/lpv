{
  "nbformat": 4,
  "nbformat_minor": 0,
  "metadata": {
    "colab": {
      "provenance": []
    },
    "kernelspec": {
      "name": "python3",
      "display_name": "Python 3"
    },
    "language_info": {
      "name": "python"
    }
  },
  "cells": [
    {
      "cell_type": "code",
      "execution_count": 1,
      "metadata": {
        "colab": {
          "base_uri": "https://localhost:8080/"
        },
        "id": "kmGppVQZEAJN",
        "outputId": "425fe647-afee-484e-ca1e-c35416b880bb"
      },
      "outputs": [
        {
          "output_type": "stream",
          "name": "stdout",
          "text": [
            "nvcc: NVIDIA (R) Cuda compiler driver\n",
            "Copyright (c) 2005-2023 NVIDIA Corporation\n",
            "Built on Tue_Aug_15_22:02:13_PDT_2023\n",
            "Cuda compilation tools, release 12.2, V12.2.140\n",
            "Build cuda_12.2.r12.2/compiler.33191640_0\n",
            "env: OMP_NUM_THREADS=3\n"
          ]
        }
      ],
      "source": [
        "!nvcc --version\n",
        "%env OMP_NUM_THREADS=3"
      ]
    },
    {
      "cell_type": "code",
      "source": [
        "%%writefile avg.cpp\n",
        "#include <iostream>\n",
        "#include <vector>\n",
        "#include <omp.h>\n",
        "#include <climits>\n",
        "\n",
        "#include <ctime>\n",
        "#include <chrono>\n",
        "#include <cstdlib>\n",
        "\n",
        "using namespace std;\n",
        "void generate_random_input(vector<int>& arr, int n)\n",
        "{\n",
        "    for (int i = 0; i < n; ++i)\n",
        "    {\n",
        "        arr.push_back(rand() % 1000);\n",
        "    }\n",
        "    for (int i = 0; i < n; ++i)\n",
        "    {\n",
        "      cout<<arr[i]<<\" \";\n",
        "    }\n",
        "    cout<<endl;\n",
        "}\n",
        "\n",
        "void average_seq(const vector<int>& arr) {\n",
        "  int sum = 0;\n",
        "  for (int i = 0; i < arr.size(); i++) {\n",
        "    sum += arr[i];\n",
        "  }\n",
        "  cout << \"Sequential Average: \" << (double)sum / arr.size() << endl;\n",
        "}\n",
        "\n",
        "void average_reduction(vector<int>& arr) {\n",
        "  int sum = 0;\n",
        "  #pragma omp parallel for reduction(+: sum)\n",
        "  for (int i = 0; i < arr.size(); i++) {\n",
        "    sum += arr[i];\n",
        "  }\n",
        "  cout << \"Average: \" << (double)sum / arr.size() << endl;\n",
        "}\n",
        "\n",
        "int main() {\n",
        "  int n;\n",
        "  cout << \"Enter the number of elements: \";\n",
        "  cin >> n;\n",
        "\n",
        "  vector<int> arr;\n",
        "  generate_random_input(arr, n);\n",
        "// Sequential reductions\n",
        "  clock_t start_time = std::clock();\n",
        "  average_seq(arr);\n",
        "  clock_t end_time = std::clock();\n",
        "  double sequential_time = double(end_time - start_time) / CLOCKS_PER_SEC;\n",
        "  cout << \"Time taken for sequential reductions: \" << sequential_time << \" seconds\" << endl;\n",
        "// Parallel reductions\n",
        "  start_time = std::clock();\n",
        "  average_reduction(arr);\n",
        "  end_time = std::clock();\n",
        "  double parallel_time = double(end_time - start_time) / CLOCKS_PER_SEC;\n",
        "  cout << \"Time taken for parallel reductions: \" << parallel_time << \" seconds\" << endl;\n",
        "  cout<<endl;\n",
        "\n",
        "\n",
        "\n",
        "  return 0;\n",
        "}"
      ],
      "metadata": {
        "colab": {
          "base_uri": "https://localhost:8080/"
        },
        "id": "C8dPHWbDEB3P",
        "outputId": "6eb4545b-0c0f-4d9c-83df-e567bca00d2c"
      },
      "execution_count": 2,
      "outputs": [
        {
          "output_type": "stream",
          "name": "stdout",
          "text": [
            "Writing avg.cpp\n"
          ]
        }
      ]
    },
    {
      "cell_type": "code",
      "source": [
        "!g++ avg.cpp -o avg -fopenmp"
      ],
      "metadata": {
        "id": "jYdP_-m6Em0p"
      },
      "execution_count": 3,
      "outputs": []
    },
    {
      "cell_type": "code",
      "source": [
        "!./avg"
      ],
      "metadata": {
        "colab": {
          "base_uri": "https://localhost:8080/"
        },
        "id": "QwxcdGPNEuB4",
        "outputId": "caf86647-2d2e-4243-8778-5279581a3a07"
      },
      "execution_count": 4,
      "outputs": [
        {
          "output_type": "stream",
          "name": "stdout",
          "text": [
            "Enter the number of elements: 10\n",
            "383 886 777 915 793 335 386 492 649 421 \n",
            "Sequential Average: 603.7\n",
            "Time taken for sequential reductions: 2.7e-05 seconds\n",
            "Average: 603.7\n",
            "Time taken for parallel reductions: 0.000247 seconds\n",
            "\n"
          ]
        }
      ]
    },
    {
      "cell_type": "code",
      "source": [],
      "metadata": {
        "id": "wIpjVVzZEvWO"
      },
      "execution_count": null,
      "outputs": []
    }
  ]
}